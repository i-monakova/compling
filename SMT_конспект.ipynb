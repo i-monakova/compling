{
  "nbformat": 4,
  "nbformat_minor": 0,
  "metadata": {
    "colab": {
      "provenance": [],
      "authorship_tag": "ABX9TyMR2yF5QGjmwboQaD1hx9Es",
      "include_colab_link": true
    },
    "kernelspec": {
      "name": "python3",
      "display_name": "Python 3"
    },
    "language_info": {
      "name": "python"
    }
  },
  "cells": [
    {
      "cell_type": "markdown",
      "metadata": {
        "id": "view-in-github",
        "colab_type": "text"
      },
      "source": [
        "<a href=\"https://colab.research.google.com/github/i-monakova/compling/blob/main/SMT_%D0%BA%D0%BE%D0%BD%D1%81%D0%BF%D0%B5%D0%BA%D1%82.ipynb\" target=\"_parent\"><img src=\"https://colab.research.google.com/assets/colab-badge.svg\" alt=\"Open In Colab\"/></a>"
      ]
    },
    {
      "cell_type": "markdown",
      "source": [
        "**SMT — Statistical Machine Translation**"
      ],
      "metadata": {
        "id": "rsIe0fPKdxCh"
      }
    },
    {
      "cell_type": "markdown",
      "source": [
        "Компоненты SMT:\n",
        "\n",
        "\n",
        "*   Статистическая языковая модель P(Y)(одноязычная) → связность\n",
        "\n",
        "*   Статистическая модель перевода P(X|Y)(двуязычная) → правдоподобие\n",
        "\n",
        "*   Модель-декодер для преобразования X в Y\n",
        "\n"
      ],
      "metadata": {
        "id": "ziMW0ZjLd6nD"
      }
    },
    {
      "cell_type": "markdown",
      "source": [
        "**Языковая модель**"
      ],
      "metadata": {
        "id": "PZnbgynwe3KE"
      }
    },
    {
      "cell_type": "markdown",
      "source": [
        "N-граммная языковая модель — предсказание следующего слова.\n",
        "\n",
        "Дано: последовательность токенов x1, x2 ... xt-1\n",
        "\n",
        "Предсказать вероятностное распределение вероятностей для токена xt, который может быть любым токеном из словаря V = {w1 … w|V|}\n",
        "P(xt|xt … x1)\n"
      ],
      "metadata": {
        "id": "oZbe_e8zegbI"
      }
    },
    {
      "cell_type": "markdown",
      "source": [
        "**Марковское свойство**"
      ],
      "metadata": {
        "id": "GaqrGrh0fGij"
      }
    },
    {
      "cell_type": "markdown",
      "source": [
        "Распределение вероятностей будущих состояний процесса зависит от текущего состояния, а не от предшествующих ему.\n",
        "\n",
        "*P(N|N-1 … 1) = P(N|N-1)*\n",
        "\n",
        "Для корпуса:\n",
        "*  посчитать совместную вероятность для корпуса\n",
        "*  посчитать условную вероятность для N-грамм\n"
      ],
      "metadata": {
        "id": "jUT1cVQYfLr-"
      }
    },
    {
      "cell_type": "markdown",
      "source": [
        "**Модель перевода**"
      ],
      "metadata": {
        "id": "72uiCnBzfuZo"
      }
    },
    {
      "cell_type": "markdown",
      "source": [
        "T-tables — таблица, где указаны переводы слов и вероятность именно этих переводов.\n",
        "\n",
        "Выравнивание – соответстветствие между x и y на уровне слов или фраз.\n",
        "\n",
        "Заготовка длины len(x) → вектор для выравнивания (такой же длины) → генерируем перевод путем сопоставления с обученным представлением (включая пустые ячейки).\n"
      ],
      "metadata": {
        "id": "aP5TH_CJgKFW"
      }
    },
    {
      "cell_type": "markdown",
      "source": [
        "**Декодер**"
      ],
      "metadata": {
        "id": "z9qoAQbqgxld"
      }
    },
    {
      "cell_type": "markdown",
      "source": [
        "Beam Search — поиск по графу (по первому лучшему совпадению).\n"
      ],
      "metadata": {
        "id": "DfhJFeY1g0aH"
      }
    }
  ]
}